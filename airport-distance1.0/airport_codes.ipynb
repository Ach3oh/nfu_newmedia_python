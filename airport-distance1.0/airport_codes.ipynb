{
 "cells": [
  {
   "cell_type": "code",
   "execution_count": 9,
   "metadata": {
    "collapsed": false
   },
   "outputs": [],
   "source": [
    "class airport_codes (object):\n",
    "\n",
    "    def __init__(self, fn='airport-codes.csv'):\n",
    "        import csv\n",
    "        with open(fn, 'r') as csvfile:\n",
    "            reader = csv.DictReader(csvfile, fieldnames=['ident', 'coordinates'], delimiter='\\t')\n",
    "            fieldnames = reader.fieldnames\n",
    "\n",
    "            list_dict_airport = []\n",
    "            for row in reader:\n",
    "                    list_dict_airport.append(dict(row))\n",
    "    \n",
    "            self.data = {d['ident']:d['coordinates'] for d in list_dict_airport}\n",
    " \n",
    "            def airport_code(self, a_code=''):\n",
    "                a_name =  self.data.get(c_code, None)\n",
    "                return (c_name)"
   ]
  },
  {
   "cell_type": "code",
   "execution_count": null,
   "metadata": {
    "collapsed": true
   },
   "outputs": [],
   "source": []
  }
 ],
 "metadata": {
  "kernelspec": {
   "display_name": "Python 3",
   "language": "python",
   "name": "python3"
  },
  "language_info": {
   "codemirror_mode": {
    "name": "ipython",
    "version": 3
   },
   "file_extension": ".py",
   "mimetype": "text/x-python",
   "name": "python",
   "nbconvert_exporter": "python",
   "pygments_lexer": "ipython3",
   "version": "3.6.0"
  }
 },
 "nbformat": 4,
 "nbformat_minor": 2
}
